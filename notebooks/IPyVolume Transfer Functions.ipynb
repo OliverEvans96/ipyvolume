{
 "cells": [
  {
   "cell_type": "code",
   "execution_count": 1,
   "metadata": {},
   "outputs": [],
   "source": [
    "import ipyvolume as ipv\n",
    "import numpy as np\n",
    "import bqplot as bq\n",
    "import ipywidgets as ipw\n",
    "import traitlets as tr\n",
    "import time\n",
    "import copy"
   ]
  },
  {
   "cell_type": "code",
   "execution_count": 2,
   "metadata": {
    "scrolled": false
   },
   "outputs": [],
   "source": [
    "class TransferFunctionEditor(ipw.VBox):\n",
    "    def __init__(self, fig):\n",
    "        super().__init__()\n",
    "        \n",
    "        # Copy figure since we're going to shrink it\n",
    "        self.ipv_fig = fig\n",
    "        \n",
    "        self.init_ipv_fig()\n",
    "        self.init_vals()\n",
    "        self.init_elements()\n",
    "        self.init_logic()\n",
    "        self.init_style()\n",
    "        self.init_layout()\n",
    "\n",
    "    def init_vals(self):\n",
    "        self.x = np.linspace(0, 1, 256)\n",
    "        self.original_rgba = np.copy(self.tf.rgba)\n",
    "        self.alpha_max = .2\n",
    "\n",
    "    def init_elements(self):\n",
    "        self.xscale = bq.LinearScale(min=0,max=1)\n",
    "        self.yscale = bq.LinearScale(min=0,max=1)\n",
    "        self.alpha_scale = bq.LinearScale(min=0, max=self.alpha_max)\n",
    "        \n",
    "        self.xax = bq.Axis(\n",
    "            scale=self.xscale,\n",
    "            label='Data Value (%)',\n",
    "            grid_lines='none'\n",
    "        )\n",
    "        self.yax = bq.Axis(\n",
    "            scale=self.yscale,\n",
    "            label='RGB Values',\n",
    "            orientation='vertical',\n",
    "            grid_lines='none'\n",
    "        )\n",
    "        self.alpha_ax = bq.Axis(\n",
    "            scale=self.alpha_scale,\n",
    "            label='Alpha Values',\n",
    "            orientation='vertical',\n",
    "            grid_lines='none',\n",
    "            side='right'\n",
    "        )\n",
    "        \n",
    "        # Attributes to change\n",
    "        self.attribute_list = ['red', 'green', 'blue', 'alpha']\n",
    "        \n",
    "        self.lines = {\n",
    "            attribute: self.gen_rgba_line(index, attribute)\n",
    "            for index, attribute in enumerate(self.attribute_list)\n",
    "        }\n",
    "        \n",
    "        self.handdraws = {\n",
    "            attribute: bq.interacts.HandDraw(\n",
    "                lines=self.lines[attribute]\n",
    "            )\n",
    "            for attribute in self.attribute_list\n",
    "        }\n",
    "\n",
    "        self.attribute_selector = ipw.Select(\n",
    "            options=self.attribute_list,\n",
    "        )\n",
    "        \n",
    "        self.reset_button = ipw.Button(\n",
    "            description='Reset'\n",
    "        )\n",
    "        \n",
    "        self.reload_button = ipw.Button(\n",
    "            description='Reload TF'\n",
    "        )\n",
    "        \n",
    "        self.bq_fig = bq.Figure(\n",
    "            marks=list(self.lines.values()),\n",
    "            axes=[self.xax, self.yax, self.alpha_ax],\n",
    "            interaction=self.handdraws[self.attribute_selector.value]\n",
    "        )\n",
    "        \n",
    "\n",
    "    def init_logic(self):\n",
    "        # Update which line is being edited\n",
    "        self.attribute_selector.observe(self.select_attribute, names='value')\n",
    "        \n",
    "        # Reset TF to original state\n",
    "        self.reset_button.on_click(self.reset_tf)\n",
    "        \n",
    "        # Update lines to match RGBA array in case it's changed via another means.\n",
    "        self.reload_button.on_click(self.reload_tf)\n",
    "        \n",
    "        # Automatically update RGBA array on line changes\n",
    "        for line in self.lines.values():\n",
    "            line.observe(self.reload_tf, names='y')\n",
    "    \n",
    "    def init_style(self):\n",
    "        self.bq_fig.layout = ipw.Layout(\n",
    "            width=u'500px',\n",
    "            height=u'400px'\n",
    "        )\n",
    "    \n",
    "    def init_layout(self):\n",
    "        self.children = [\n",
    "            ipw.HBox([\n",
    "                self.bq_fig,\n",
    "                self.ipv_fig\n",
    "            ]),\n",
    "            ipw.HBox([\n",
    "                self.attribute_selector,\n",
    "                ipw.VBox([\n",
    "                    self.reset_button,\n",
    "                    self.reload_button,\n",
    "                ])\n",
    "            ])\n",
    "        ]\n",
    "        \n",
    "    def init_ipv_fig(self):\n",
    "        self.ipv_fig.width = 350\n",
    "        self.ipv_fig.height = 350\n",
    "        #self.ds = ipv.datasets.aquariusA2.fetch()\n",
    "        #self.ipv_fig = ipv.Figure(width=350, height=350)\n",
    "        #self.ipv_fig = ipv.volshow(self.ds.data)\n",
    "        #ipv.show()\n",
    "        \n",
    "        # It seems that it takes a moment for the tf to be initialized.\n",
    "        # Otherwise, tf is None and we get errors.\n",
    "        # Try a few times.\n",
    "        for i in range(5):\n",
    "            if self.ipv_fig.tf.rgba is None:\n",
    "                time.sleep(1)\n",
    "        if self.ipv_fig.tf.rgba is None:\n",
    "            raise ValueError('TransferFunction not loaded :(')\n",
    "            \n",
    "        self.tf = self.ipv_fig.tf\n",
    "        \n",
    "    def select_attribute(self, *args):\n",
    "        \"Choose to edit red, green, blue, or alpha\"\n",
    "        attribute = self.attribute_selector.value\n",
    "        self.bq_fig.interaction = self.handdraws[attribute]\n",
    "        \n",
    "    def reload_tf(self, *args):\n",
    "        \"Update TransferFunction if graph is changed\"\n",
    "        # The column in the rgba array that we're setting\n",
    "        column = self.attribute_selector.index\n",
    "        # The values from the appropriate line\n",
    "        attribute = self.attribute_selector.value\n",
    "        values = self.lines[attribute].y\n",
    "        \n",
    "        # tf.rgba is \"read only\", so make a copy and assign that\n",
    "        rgba_copy = np.copy(self.tf.rgba)\n",
    "        rgba_copy[:,column] = values\n",
    "        \n",
    "        self.tf.rgba = rgba_copy\n",
    "        self.update_lines()\n",
    "\n",
    "    def reset_tf(self, *args):\n",
    "        self.tf.rgba = self.original_rgba\n",
    "        self.update_lines()\n",
    "    \n",
    "    def update_lines(self):\n",
    "        \"\"\"Update lines in  case TF has changed.\n",
    "        It would be nice to do this automatically (via observe),\n",
    "        but then we would get infinite recursion every time either changes.\n",
    "        \"\"\"\n",
    "        \n",
    "        for index, attribute in enumerate(self.attribute_list):\n",
    "            self.lines[attribute].y = self.tf.rgba[:,index]\n",
    "    \n",
    "    def gen_rgba_line(self, column, attribute):\n",
    "        \"Create bqplot line from column of tf.rgba with specified attribute\"\n",
    "        if attribute == 'alpha':\n",
    "            color = 'black'\n",
    "            yscale = self.alpha_scale\n",
    "        else:\n",
    "            color = attribute\n",
    "            yscale = self.yscale\n",
    "        return bq.Lines(\n",
    "            x=self.x,\n",
    "            y=self.tf.rgba[:,column],\n",
    "            #y=self.x*column/100,\n",
    "            scales={'x': self.xscale, 'y': yscale},\n",
    "            colors=[color],\n",
    "            interpolation='cardinal',\n",
    "            display_legend=True,\n",
    "            labels=[attribute]\n",
    "        )"
   ]
  },
  {
   "cell_type": "code",
   "execution_count": 6,
   "metadata": {
    "scrolled": false
   },
   "outputs": [
    {
     "name": "stderr",
     "output_type": "stream",
     "text": [
      "/home/oliver/python/packages/ipyvolume/ipyvolume/serialize.py:66: RuntimeWarning: invalid value encountered in true_divide\n",
      "  gradient = gradient / np.sqrt(gradient[0]**2 + gradient[1]**2 + gradient[2]**2)\n"
     ]
    },
    {
     "data": {
      "application/vnd.jupyter.widget-view+json": {
       "model_id": "3ae53ef571bb4cff9af709c335ceddaa",
       "version_major": 2,
       "version_minor": 0
      },
      "text/plain": [
       "Figure(camera_center=[0.0, 0.0, 0.0], data_max=255.0, height=500, matrix_projection=[0.0, 0.0, 0.0, 0.0, 0.0, …"
      ]
     },
     "metadata": {},
     "output_type": "display_data"
    }
   ],
   "source": [
    "ds = ipv.datasets.aquariusA2.fetch()\n",
    "fig = ipv.figure()\n",
    "ipv.volshow(ds.data)\n",
    "fig"
   ]
  },
  {
   "cell_type": "code",
   "execution_count": 7,
   "metadata": {
    "scrolled": false
   },
   "outputs": [
    {
     "data": {
      "application/vnd.jupyter.widget-view+json": {
       "model_id": "947c3b19495d4148b5b4025d0527723c",
       "version_major": 2,
       "version_minor": 0
      },
      "text/plain": [
       "TransferFunctionEditor(children=(HBox(children=(Figure(axes=[Axis(grid_lines='none', label='Data Value (%)', s…"
      ]
     },
     "metadata": {},
     "output_type": "display_data"
    }
   ],
   "source": [
    "tfe = TransferFunctionEditor(fig)\n",
    "tfe"
   ]
  },
  {
   "cell_type": "code",
   "execution_count": null,
   "metadata": {},
   "outputs": [],
   "source": [
    "ipv.show()"
   ]
  },
  {
   "cell_type": "code",
   "execution_count": null,
   "metadata": {},
   "outputs": [],
   "source": []
  }
 ],
 "metadata": {
  "kernelspec": {
   "display_name": "Python 3",
   "language": "python",
   "name": "python3"
  },
  "language_info": {
   "codemirror_mode": {
    "name": "ipython",
    "version": 3
   },
   "file_extension": ".py",
   "mimetype": "text/x-python",
   "name": "python",
   "nbconvert_exporter": "python",
   "pygments_lexer": "ipython3",
   "version": "3.5.3"
  }
 },
 "nbformat": 4,
 "nbformat_minor": 2
}
